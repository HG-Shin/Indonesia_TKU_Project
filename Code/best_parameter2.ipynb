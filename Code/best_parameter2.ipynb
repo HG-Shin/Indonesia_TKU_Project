{
 "cells": [
  {
   "cell_type": "code",
   "execution_count": 1,
   "id": "36fb027e",
   "metadata": {},
   "outputs": [],
   "source": [
    "import pandas as pd\n",
    "import numpy as np\n",
    "from sklearn.model_selection import train_test_split\n",
    "from sklearn.preprocessing import LabelEncoder\n",
    "from sklearn.metrics import accuracy_score, confusion_matrix, classification_report\n",
    "import seaborn as sns\n",
    "import matplotlib.pyplot as plt\n",
    "\n",
    "import torch\n",
    "import torch.nn as nn\n",
    "import torch.optim as optim\n",
    "from torch.utils.data import Dataset, DataLoader"
   ]
  },
  {
   "cell_type": "code",
   "execution_count": 2,
   "id": "04a65c8b",
   "metadata": {},
   "outputs": [],
   "source": [
    "# 데이터를 로드하고 전처리합니다.\n",
    "data = pd.read_excel(\"gambung_tea.xlsx\")\n",
    "X = data.iloc[:, 1:7]  # 특성 (6개의 입력 변수)\n",
    "y = data.iloc[:, 8]  # 라벨 (1개의 출력 변수, 객체 유형)\n",
    "y = y.replace({'Cacat Mutu': 'Defect', 'Baik': 'Good'})\n",
    "\n",
    "encoder = LabelEncoder()\n",
    "y = encoder.fit_transform(y)\n",
    "\n",
    "X_train, X_test, y_train, y_test = train_test_split(X, y, test_size=0.2, random_state=42)"
   ]
  },
  {
   "cell_type": "code",
   "execution_count": null,
   "id": "aac9c89e",
   "metadata": {},
   "outputs": [],
   "source": [
    "# 데이터를 적절한 torch.tensor 유형으로 변환합니다.\n",
    "class SimpleDataset(Dataset):\n",
    "    def __init__(self, x, y):\n",
    "        self.x = torch.tensor(x.to_numpy(), dtype=torch.float32)\n",
    "        self.y = torch.tensor(y.to_numpy(), dtype=torch.long)\n",
    "\n",
    "    def __len__(self):\n",
    "        return len(self.y)\n",
    "\n",
    "    def __getitem__(self, idx):\n",
    "        return self.x[idx], self.y[idx]\n",
    "\n",
    "# 데이터셋과 데이터 로더를 생성합니다.\n",
    "train_data = SimpleDataset(X_train, y_train)\n",
    "test_data = SimpleDataset(X_test, y_test)\n",
    "\n",
    "train_dataloader = DataLoader(train_data, batch_size=8, shuffle=True)\n",
    "test_dataloader = DataLoader(test_data, batch_size=8, shuffle=False)"
   ]
  },
  {
   "cell_type": "code",
   "execution_count": null,
   "id": "7e0487d4",
   "metadata": {},
   "outputs": [],
   "source": []
  }
 ],
 "metadata": {
  "kernelspec": {
   "display_name": "Python 3 (ipykernel)",
   "language": "python",
   "name": "python3"
  },
  "language_info": {
   "codemirror_mode": {
    "name": "ipython",
    "version": 3
   },
   "file_extension": ".py",
   "mimetype": "text/x-python",
   "name": "python",
   "nbconvert_exporter": "python",
   "pygments_lexer": "ipython3",
   "version": "3.10.9"
  }
 },
 "nbformat": 4,
 "nbformat_minor": 5
}
